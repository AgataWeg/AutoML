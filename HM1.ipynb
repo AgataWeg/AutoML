{
 "cells": [
  {
   "cell_type": "markdown",
   "metadata": {},
   "source": [
    "# HM1 algorithms and hyperparameters tuning"
   ]
  },
  {
   "cell_type": "markdown",
   "metadata": {},
   "source": [
    "# Algorithms \n",
    "\n",
    "SVM\n",
    "\n",
    "k nn\n",
    "\n",
    "Random forest\n",
    "\n",
    "# Data\n",
    "\n",
    "44 spam\n",
    "\n",
    "1067 nasa https://www.openml.org/search?type=data&status=active&id=1067\n",
    "\n",
    "1464 blood-transfusion-service-center\n",
    "\n",
    "40701 churn"
   ]
  },
  {
   "cell_type": "markdown",
   "metadata": {},
   "source": [
    "### Libraries"
   ]
  },
  {
   "cell_type": "code",
   "execution_count": 21,
   "metadata": {},
   "outputs": [],
   "source": [
    "import numpy as np\n",
    "from sklearn.impute import SimpleImputer\n",
    "from sklearn.pipeline import Pipeline\n",
    "from sklearn.compose import make_column_transformer, make_column_selector, ColumnTransformer\n",
    "from sklearn.impute import SimpleImputer\n",
    "from sklearn.preprocessing import MinMaxScaler, OneHotEncoder\n",
    "import pandas as pd\n",
    "from sklearn.model_selection import train_test_split\n",
    "from sklearn.ensemble import RandomForestClassifier\n",
    "from sklearn.model_selection import train_test_split, GridSearchCV\n",
    "import openml\n",
    "from skopt import BayesSearchCV"
   ]
  },
  {
   "cell_type": "markdown",
   "metadata": {},
   "source": [
    "### Data input"
   ]
  },
  {
   "cell_type": "code",
   "execution_count": 5,
   "metadata": {},
   "outputs": [
    {
     "name": "stderr",
     "output_type": "stream",
     "text": [
      "c:\\Users\\AWeg\\AppData\\Local\\Programs\\Python\\Python39\\lib\\site-packages\\openml\\datasets\\functions.py:438: FutureWarning: Starting from Version 0.15 `download_data`, `download_qualities`, and `download_features_meta_data` will all be ``False`` instead of ``True`` by default to enable lazy loading. To disable this message until version 0.15 explicitly set `download_data`, `download_qualities`, and `download_features_meta_data` to a bool while calling `get_dataset`.\n",
      "  warnings.warn(\n",
      "c:\\Users\\AWeg\\AppData\\Local\\Programs\\Python\\Python39\\lib\\site-packages\\openml\\datasets\\functions.py:438: FutureWarning: Starting from Version 0.15 `download_data`, `download_qualities`, and `download_features_meta_data` will all be ``False`` instead of ``True`` by default to enable lazy loading. To disable this message until version 0.15 explicitly set `download_data`, `download_qualities`, and `download_features_meta_data` to a bool while calling `get_dataset`.\n",
      "  warnings.warn(\n",
      "c:\\Users\\AWeg\\AppData\\Local\\Programs\\Python\\Python39\\lib\\site-packages\\openml\\datasets\\functions.py:438: FutureWarning: Starting from Version 0.15 `download_data`, `download_qualities`, and `download_features_meta_data` will all be ``False`` instead of ``True`` by default to enable lazy loading. To disable this message until version 0.15 explicitly set `download_data`, `download_qualities`, and `download_features_meta_data` to a bool while calling `get_dataset`.\n",
      "  warnings.warn(\n",
      "c:\\Users\\AWeg\\AppData\\Local\\Programs\\Python\\Python39\\lib\\site-packages\\openml\\datasets\\functions.py:438: FutureWarning: Starting from Version 0.15 `download_data`, `download_qualities`, and `download_features_meta_data` will all be ``False`` instead of ``True`` by default to enable lazy loading. To disable this message until version 0.15 explicitly set `download_data`, `download_qualities`, and `download_features_meta_data` to a bool while calling `get_dataset`.\n",
      "  warnings.warn(\n"
     ]
    }
   ],
   "source": [
    "dataset = {}\n",
    "data = {}\n",
    "labels = {}\n",
    "id = [44,1067,1464,40701]\n",
    "for index in id:\n",
    "    dataset[index] = openml.datasets.get_dataset(index)\n",
    "    data[index], y, _, _ = dataset[index].get_data(dataset_format=\"dataframe\")\n",
    "    data[index] = data[index].replace('nan', np.nan) # not always needed\n",
    "    labels[index] = list(data[index].columns.values)"
   ]
  },
  {
   "cell_type": "markdown",
   "metadata": {},
   "source": [
    "### Preprocessing"
   ]
  },
  {
   "cell_type": "code",
   "execution_count": 6,
   "metadata": {},
   "outputs": [],
   "source": [
    "def preprocess():\n",
    "    num_pipeline = Pipeline(steps=[\n",
    "        ('scale',MinMaxScaler())\n",
    "    ])\n",
    "\n",
    "    ### operacje dla kolumn kategorycznych\n",
    "    cat_pipeline = Pipeline(steps=[\n",
    "        ('one-hot',OneHotEncoder(handle_unknown='ignore', sparse=False))\n",
    "\n",
    "    ])\n",
    "\n",
    "    bool_pipeline = Pipeline(steps=[])\n",
    "\n",
    "    col_trans = ColumnTransformer(transformers=[\n",
    "        ('num_pipeline', num_pipeline, make_column_selector( dtype_exclude= np.object_)),\n",
    "        ('cat_pipeline',cat_pipeline,make_column_selector( dtype_include= np.object_)),\n",
    "        ],\n",
    "    \n",
    "        n_jobs=-1)\n",
    "    \n",
    "    model = Pipeline([('preprocessing', col_trans)])\n",
    "    return model"
   ]
  },
  {
   "cell_type": "code",
   "execution_count": 7,
   "metadata": {},
   "outputs": [],
   "source": [
    "data_prepared = {}\n",
    "for index in id:\n",
    "    datad = data[index]\n",
    "    model =  preprocess()\n",
    "    model.get_params()\n",
    "    model.fit(datad)\n",
    "    after_process = model.transform(datad)\n",
    "    data_prepared[index] = pd.DataFrame(after_process, columns = labels[index])"
   ]
  },
  {
   "cell_type": "markdown",
   "metadata": {},
   "source": [
    "### Data split"
   ]
  },
  {
   "cell_type": "code",
   "execution_count": 8,
   "metadata": {},
   "outputs": [],
   "source": [
    "yColumnName = {44:\"class\",1067:\"defects\",1464:\"Class\",40701:\"class\"}\n",
    "X = {}\n",
    "y = {}\n",
    "X_train = {}\n",
    "X_test = {}\n",
    "y_train = {}\n",
    "y_test = {}\n",
    "for index in id:\n",
    "\n",
    "    X[index] = data_prepared[index].drop(yColumnName[index], axis=1)\n",
    "    y[index] = data_prepared[index][yColumnName[index]]\n",
    "\n",
    "    X_train[index],  X_test[index], y_train[index], y_test[index] = train_test_split(X[index], y[index])"
   ]
  },
  {
   "cell_type": "markdown",
   "metadata": {},
   "source": [
    "## Grid search for tuning hyperparams"
   ]
  },
  {
   "cell_type": "markdown",
   "metadata": {},
   "source": [
    "### RandomForestClassifier"
   ]
  },
  {
   "cell_type": "code",
   "execution_count": 9,
   "metadata": {},
   "outputs": [],
   "source": [
    "pipeline = Pipeline([('RandomForestClassifier', RandomForestClassifier())])"
   ]
  },
  {
   "cell_type": "code",
   "execution_count": 10,
   "metadata": {},
   "outputs": [
    {
     "data": {
      "text/plain": [
       "{'memory': None,\n",
       " 'steps': [('RandomForestClassifier', RandomForestClassifier())],\n",
       " 'verbose': False,\n",
       " 'RandomForestClassifier': RandomForestClassifier(),\n",
       " 'RandomForestClassifier__bootstrap': True,\n",
       " 'RandomForestClassifier__ccp_alpha': 0.0,\n",
       " 'RandomForestClassifier__class_weight': None,\n",
       " 'RandomForestClassifier__criterion': 'gini',\n",
       " 'RandomForestClassifier__max_depth': None,\n",
       " 'RandomForestClassifier__max_features': 'sqrt',\n",
       " 'RandomForestClassifier__max_leaf_nodes': None,\n",
       " 'RandomForestClassifier__max_samples': None,\n",
       " 'RandomForestClassifier__min_impurity_decrease': 0.0,\n",
       " 'RandomForestClassifier__min_samples_leaf': 1,\n",
       " 'RandomForestClassifier__min_samples_split': 2,\n",
       " 'RandomForestClassifier__min_weight_fraction_leaf': 0.0,\n",
       " 'RandomForestClassifier__n_estimators': 100,\n",
       " 'RandomForestClassifier__n_jobs': None,\n",
       " 'RandomForestClassifier__oob_score': False,\n",
       " 'RandomForestClassifier__random_state': None,\n",
       " 'RandomForestClassifier__verbose': 0,\n",
       " 'RandomForestClassifier__warm_start': False}"
      ]
     },
     "execution_count": 10,
     "metadata": {},
     "output_type": "execute_result"
    }
   ],
   "source": [
    "pipeline.get_params()"
   ]
  },
  {
   "cell_type": "code",
   "execution_count": 32,
   "metadata": {},
   "outputs": [],
   "source": [
    "n_estimators_vector = np.linspace(10, 200, 10).astype(np.int_)\n",
    "min_samples_leaf_vector = np.linspace(1, 50, 5).astype(np.int_)\n",
    "random_state_vector = np.array([1]).astype(np.int_)\n",
    "max_depth_vector =  np.linspace(10, 110, 11).astype(np.int_)\n",
    "min_samples_split_vector = np.linspace(2, 10, 4).astype(np.int_)"
   ]
  },
  {
   "cell_type": "code",
   "execution_count": 33,
   "metadata": {},
   "outputs": [],
   "source": [
    "grid_params = [{'RandomForestClassifier__n_estimators':n_estimators_vector,\n",
    "                'RandomForestClassifier__min_samples_leaf':min_samples_leaf_vector,\n",
    "                'RandomForestClassifier__random_state': random_state_vector, \n",
    "                'RandomForestClassifier__max_depth': max_depth_vector,\n",
    "                'RandomForestClassifier__min_samples_split': min_samples_split_vector\n",
    "                }]"
   ]
  },
  {
   "cell_type": "code",
   "execution_count": 13,
   "metadata": {},
   "outputs": [],
   "source": [
    "best_hyperparams = []\n",
    "score_for_best_hyperparams = {}\n",
    "std_scores = []\n",
    "all_scores = {}\n",
    "# ps = PredefinedSplit(test_fold=1)\n",
    "\n",
    "for index in id:\n",
    "    gs_model_pipeline = GridSearchCV(estimator=pipeline,param_grid=grid_params,scoring='roc_auc',cv=2)\n",
    "    gs_model_pipeline.fit(X[index], y[index])\n",
    "    best_hyperparams.append(gs_model_pipeline.best_params_)\n",
    "\n",
    "    #score for test data\n",
    "    \n",
    "    #score_for_best_hyperparams[index] = gs_model_pipeline.score(X_test[index], y_test[index])\n",
    "    std_scores.append(gs_model_pipeline.cv_results_['mean_test_score'])\n",
    "    all_scores[index] = gs_model_pipeline.cv_results_['mean_test_score']\n"
   ]
  },
  {
   "cell_type": "code",
   "execution_count": 14,
   "metadata": {},
   "outputs": [
    {
     "data": {
      "text/plain": [
       "array([0.91047991, 0.91248169, 0.9126562 , 0.91069353, 0.91414946,\n",
       "       0.91356901, 0.88113938, 0.8859834 , 0.88675635, 0.88113938,\n",
       "       0.8859834 , 0.88675635, 0.90515528, 0.91211651, 0.91313732,\n",
       "       0.91124567, 0.9135487 , 0.91401073, 0.87712864, 0.8865822 ,\n",
       "       0.88688213, 0.87712864, 0.8865822 , 0.88688213])"
      ]
     },
     "execution_count": 14,
     "metadata": {},
     "output_type": "execute_result"
    }
   ],
   "source": [
    "best_hyperparams\n",
    "gs_model_pipeline.cv_results_['mean_test_score']"
   ]
  },
  {
   "cell_type": "code",
   "execution_count": 15,
   "metadata": {},
   "outputs": [],
   "source": [
    "mean_std_vector   = np.mean(std_scores, axis =0)\n",
    "minimum_std = np.max(mean_std_vector)\n",
    "index_best = np.where(mean_std_vector == (minimum_std))[0][0]"
   ]
  },
  {
   "cell_type": "code",
   "execution_count": 16,
   "metadata": {},
   "outputs": [],
   "source": [
    "for index in id:\n",
    "    score_for_best_hyperparams[index] = np.max(all_scores[index])"
   ]
  },
  {
   "cell_type": "code",
   "execution_count": 37,
   "metadata": {},
   "outputs": [
    {
     "data": {
      "text/plain": [
       "{44: 0.9718765227191518,\n",
       " 1067: 0.7897170354895005,\n",
       " 1464: 0.7550463236743544,\n",
       " 40701: 0.9141494628386202}"
      ]
     },
     "execution_count": 37,
     "metadata": {},
     "output_type": "execute_result"
    }
   ],
   "source": [
    "score_for_best_hyperparams"
   ]
  },
  {
   "cell_type": "code",
   "execution_count": 17,
   "metadata": {},
   "outputs": [],
   "source": [
    "defaults = gs_model_pipeline.cv_results_['params'][index_best]"
   ]
  },
  {
   "cell_type": "markdown",
   "metadata": {},
   "source": [
    "### Diff for defaults - best"
   ]
  },
  {
   "cell_type": "code",
   "execution_count": 18,
   "metadata": {},
   "outputs": [
    {
     "data": {
      "text/plain": [
       "{44: 0.011748206831924457,\n",
       " 1067: 0.0018452874812975306,\n",
       " 1464: 0.0,\n",
       " 40701: 0.027567263306330192}"
      ]
     },
     "execution_count": 18,
     "metadata": {},
     "output_type": "execute_result"
    }
   ],
   "source": [
    "score_for_default_hyperparams = {}\n",
    "diff = {}\n",
    "\n",
    "for index in id:\n",
    "    diff[index] = score_for_best_hyperparams[index] - all_scores[index][index_best]\n",
    "diff"
   ]
  },
  {
   "cell_type": "markdown",
   "metadata": {},
   "source": [
    "# Bayes Optimization"
   ]
  },
  {
   "cell_type": "markdown",
   "metadata": {},
   "source": [
    "## BayesSearchCV"
   ]
  },
  {
   "cell_type": "code",
   "execution_count": null,
   "metadata": {},
   "outputs": [],
   "source": [
    "# number of iters to change\n",
    "iters = 50\n",
    "\n",
    "bayes_params = grid_params\n",
    "best_hyperparams_bayes = []\n",
    "all_scores_bayes = {}\n",
    "\n",
    "for index in [1067]:\n",
    "    opt = BayesSearchCV(estimator=pipeline,search_spaces=bayes_params,scoring='roc_auc',cv=2, n_iter=iters, random_state=0)\n",
    "    opt.fit(X[index], y[index])\n",
    "    best_hyperparams_bayes.append(opt.best_params_)\n",
    "\n",
    "    all_scores_bayes[index] = opt.cv_results_['mean_test_score']"
   ]
  },
  {
   "cell_type": "code",
   "execution_count": 36,
   "metadata": {},
   "outputs": [
    {
     "data": {
      "text/plain": [
       "[OrderedDict([('RandomForestClassifier__max_depth', 60),\n",
       "              ('RandomForestClassifier__min_samples_leaf', 50),\n",
       "              ('RandomForestClassifier__min_samples_split', 10),\n",
       "              ('RandomForestClassifier__n_estimators', 52),\n",
       "              ('RandomForestClassifier__random_state', 1)])]"
      ]
     },
     "execution_count": 36,
     "metadata": {},
     "output_type": "execute_result"
    }
   ],
   "source": [
    "best_hyperparams_bayes"
   ]
  },
  {
   "cell_type": "code",
   "execution_count": 41,
   "metadata": {},
   "outputs": [
    {
     "data": {
      "text/plain": [
       "array([0.78845402, 0.78890371, 0.73792496, 0.78937883, 0.77519492,\n",
       "       0.78880435, 0.78948198, 0.77805696, 0.78908255, 0.78403753,\n",
       "       0.78908255, 0.78845402, 0.77683066, 0.78948198, 0.78818236,\n",
       "       0.78971704, 0.7895074 , 0.78948198, 0.7918186 , 0.78955719,\n",
       "       0.7837086 , 0.78863632, 0.78820866, 0.79029555, 0.7916024 ,\n",
       "       0.78876909, 0.7918186 , 0.78819947, 0.7898549 , 0.7847876 ,\n",
       "       0.78573656, 0.77896764, 0.7918186 , 0.7918186 , 0.78496731,\n",
       "       0.78480677, 0.7918186 , 0.7918186 , 0.78534323, 0.78347987,\n",
       "       0.78499491, 0.78414724, 0.7918186 , 0.77726385, 0.77163595,\n",
       "       0.7918186 , 0.77433784, 0.7918186 , 0.7918186 , 0.76532762])"
      ]
     },
     "execution_count": 41,
     "metadata": {},
     "output_type": "execute_result"
    }
   ],
   "source": [
    "all_scores_bayes[1067]"
   ]
  },
  {
   "cell_type": "code",
   "execution_count": 42,
   "metadata": {},
   "outputs": [
    {
     "data": {
      "text/plain": [
       "[<matplotlib.lines.Line2D at 0x1ba6e145940>]"
      ]
     },
     "execution_count": 42,
     "metadata": {},
     "output_type": "execute_result"
    },
    {
     "data": {
      "image/png": "[encoded data removed]",
      "text/plain": [
       "<Figure size 640x480 with 1 Axes>"
      ]
     },
     "metadata": {},
     "output_type": "display_data"
    }
   ],
   "source": [
    "import matplotlib.pyplot as plt\n",
    "\n",
    "plt.plot(all_scores_bayes[1067])"
   ]
  },
  {
   "cell_type": "markdown",
   "metadata": {},
   "source": [
    "## gp_mini - REOMOVEEEE"
   ]
  },
  {
   "cell_type": "code",
   "execution_count": 16,
   "metadata": {},
   "outputs": [],
   "source": [
    "from sklearn.ensemble import RandomForestClassifier\n",
    "\n",
    "\n",
    "### definition of model\n",
    "\n",
    "def rf_to_opt(params,X_train=X_train[44], y_train=y_train[44], X_test=X_test[44], y_test=y_test[44]):\n",
    "    print(params)\n",
    "    model_pipeline = Pipeline([('model', RandomForestClassifier(n_estimators=np.int64(params[0]), min_samples_leaf = params[1], max_depth=np.int64(params[2]),min_samples_split= np.int64(params[3])))])\n",
    "\n",
    "    \n",
    "    model_pipeline.fit(X_train, y_train)\n",
    "    return model_pipeline.score(X_test, y_test)\n",
    "\n",
    "\n",
    "\n",
    "bounds = np.array([(np.min(n_estimators_vector), np.max(n_estimators_vector)), ([np.min(min_samples_leaf_vector), np.max(min_samples_leaf_vector)]), ([np.min(max_depth_vector), np.max(max_depth_vector)]), ([np.min(min_samples_split_vector), np.max(min_samples_split_vector)])]) # HERE CHANGE FOR MORE PARAMS"
   ]
  },
  {
   "cell_type": "code",
   "execution_count": null,
   "metadata": {},
   "outputs": [],
   "source": [
    "from sklearn.base import clone\n",
    "from skopt import gp_minimize\n",
    "from skopt.learning import GaussianProcessRegressor\n",
    "from skopt.learning.gaussian_process.kernels import ConstantKernel, Matern\n",
    "\n",
    "np.int = np.int_\n",
    "\n",
    "\n",
    "noise = 0.2\n",
    "# Use custom kernel and estimator to match previous example\n",
    "\n",
    "m52 = ConstantKernel(1.0) * Matern(length_scale=1.0, nu=2.5)\n",
    "gpr = GaussianProcessRegressor(kernel=m52, alpha=noise**2)\n",
    "\n",
    "r = gp_minimize(lambda x: -rf_to_opt(params=x), \n",
    "                bounds.tolist(),\n",
    "                base_estimator=gpr,\n",
    "                acq_func='EI',      # expected improvement\n",
    "                xi=0.01,            # exploitation-exploration trade-off\n",
    "                n_calls=1000,         # number of iterations\n",
    "                )\n",
    "\n",
    "r.values\n",
    "## Fit GP model to samples for plotting results\n",
    "gpr.fit(r.x_iters, -r.func_vals)"
   ]
  },
  {
   "cell_type": "code",
   "execution_count": 18,
   "metadata": {},
   "outputs": [
    {
     "ename": "NameError",
     "evalue": "name 'r' is not defined",
     "output_type": "error",
     "traceback": [
      "\u001b[1;31m---------------------------------------------------------------------------\u001b[0m",
      "\u001b[1;31mNameError\u001b[0m                                 Traceback (most recent call last)",
      "\u001b[1;32mc:\\Users\\AWeg\\Desktop\\AutoMLHM1\\HM1.ipynb Cell 28\u001b[0m line \u001b[0;36m2\n\u001b[0;32m      <a href='vscode-notebook-cell:/c%3A/Users/AWeg/Desktop/AutoMLHM1/HM1.ipynb#X36sZmlsZQ%3D%3D?line=0'>1</a>\u001b[0m \u001b[39mimport\u001b[39;00m \u001b[39mnumpy\u001b[39;00m \u001b[39mas\u001b[39;00m \u001b[39mnp\u001b[39;00m    \n\u001b[1;32m----> <a href='vscode-notebook-cell:/c%3A/Users/AWeg/Desktop/AutoMLHM1/HM1.ipynb#X36sZmlsZQ%3D%3D?line=1'>2</a>\u001b[0m X \u001b[39m=\u001b[39m r\u001b[39m.\u001b[39mx_iters\n\u001b[0;32m      <a href='vscode-notebook-cell:/c%3A/Users/AWeg/Desktop/AutoMLHM1/HM1.ipynb#X36sZmlsZQ%3D%3D?line=2'>3</a>\u001b[0m Y \u001b[39m=\u001b[39m \u001b[39m-\u001b[39mr\u001b[39m.\u001b[39mfunc_vals\n\u001b[0;32m      <a href='vscode-notebook-cell:/c%3A/Users/AWeg/Desktop/AutoMLHM1/HM1.ipynb#X36sZmlsZQ%3D%3D?line=3'>4</a>\u001b[0m X \u001b[39m=\u001b[39m np\u001b[39m.\u001b[39mlinspace(\u001b[39m1\u001b[39m, \u001b[39mlen\u001b[39m(X), \u001b[39mlen\u001b[39m(X))\u001b[39m.\u001b[39mastype(\u001b[39mint\u001b[39m)\n",
      "\u001b[1;31mNameError\u001b[0m: name 'r' is not defined"
     ]
    }
   ],
   "source": [
    "import numpy as np    \n",
    "X = r.x_iters\n",
    "Y = -r.func_vals\n",
    "X = np.linspace(1, len(X), len(X)).astype(int)\n"
   ]
  },
  {
   "cell_type": "code",
   "execution_count": null,
   "metadata": {},
   "outputs": [],
   "source": [
    "Y_maxining = []\n",
    "max = 0\n",
    "for z in Y: \n",
    "    if(z>max):\n",
    "        max = z\n",
    "    Y_maxining.append(max)"
   ]
  },
  {
   "cell_type": "code",
   "execution_count": null,
   "metadata": {},
   "outputs": [
    {
     "data": {
      "text/plain": [
       "[<matplotlib.lines.Line2D at 0x194ed869d00>]"
      ]
     },
     "execution_count": 72,
     "metadata": {},
     "output_type": "execute_result"
    },
    {
     "data": {
      "image/png": "[encoded data removed]",
      "text/plain": [
       "<Figure size 640x480 with 1 Axes>"
      ]
     },
     "metadata": {},
     "output_type": "display_data"
    }
   ],
   "source": [
    "import matplotlib.pyplot as plt\n",
    "\n",
    "plt.plot(sorted(X), Y)"
   ]
  },
  {
   "cell_type": "code",
   "execution_count": null,
   "metadata": {},
   "outputs": [
    {
     "data": {
      "text/plain": [
       "[<matplotlib.lines.Line2D at 0x194ed8930d0>]"
      ]
     },
     "execution_count": 73,
     "metadata": {},
     "output_type": "execute_result"
    },
    {
     "data": {
      "image/png": "[encoded data removed]",
      "text/plain": [
       "<Figure size 640x480 with 1 Axes>"
      ]
     },
     "metadata": {},
     "output_type": "display_data"
    }
   ],
   "source": [
    "plt.plot(sorted(X), Y_maxining)\n",
    "plt.plot(sorted(X), Y_maxining, '*')"
   ]
  },
  {
   "cell_type": "markdown",
   "metadata": {},
   "source": [
    "# Defaults - BO"
   ]
  },
  {
   "cell_type": "code",
   "execution_count": null,
   "metadata": {},
   "outputs": [],
   "source": [
    "minimum_std"
   ]
  }
 ],
 "metadata": {
  "kernelspec": {
   "display_name": "Python 3",
   "language": "python",
   "name": "python3"
  },
  "language_info": {
   "codemirror_mode": {
    "name": "ipython",
    "version": 3
   },
   "file_extension": ".py",
   "mimetype": "text/x-python",
   "name": "python",
   "nbconvert_exporter": "python",
   "pygments_lexer": "ipython3",
   "version": "3.9.4"
  }
 },
 "nbformat": 4,
 "nbformat_minor": 2
}
