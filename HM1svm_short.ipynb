{
 "cells": [
  {
   "cell_type": "markdown",
   "metadata": {},
   "source": [
    "# HM1 algorithms and hyperparameters tuning"
   ]
  },
  {
   "cell_type": "markdown",
   "metadata": {},
   "source": [
    "# Algorithms \n",
    "\n",
    "SVM\n",
    "\n",
    "k nn\n",
    "\n",
    "Random forest\n",
    "\n",
    "# Data\n",
    "\n",
    "44 spam\n",
    "\n",
    "1067 nasa https://www.openml.org/search?type=data&status=active&id=1067\n",
    "\n",
    "1464 blood-transfusion-service-center\n",
    "\n",
    "40701 churn"
   ]
  },
  {
   "cell_type": "markdown",
   "metadata": {},
   "source": [
    "### Libraries"
   ]
  },
  {
   "cell_type": "code",
   "execution_count": 19,
   "metadata": {},
   "outputs": [],
   "source": [
    "import numpy as np\n",
    "from sklearn.impute import SimpleImputer\n",
    "from sklearn.pipeline import Pipeline\n",
    "from sklearn.compose import make_column_transformer, make_column_selector, ColumnTransformer\n",
    "from sklearn.impute import SimpleImputer\n",
    "from sklearn.preprocessing import MinMaxScaler, OneHotEncoder\n",
    "import pandas as pd\n",
    "from sklearn.model_selection import train_test_split\n",
    "from sklearn.model_selection import train_test_split, RandomizedSearchCV\n",
    "import openml\n",
    "from skopt import BayesSearchCV\n",
    "from sklearn import svm"
   ]
  },
  {
   "cell_type": "markdown",
   "metadata": {},
   "source": [
    "### Data input"
   ]
  },
  {
   "cell_type": "code",
   "execution_count": 20,
   "metadata": {},
   "outputs": [
    {
     "name": "stderr",
     "output_type": "stream",
     "text": [
      "c:\\Users\\AWeg\\AppData\\Local\\Programs\\Python\\Python39\\lib\\site-packages\\openml\\datasets\\functions.py:438: FutureWarning: Starting from Version 0.15 `download_data`, `download_qualities`, and `download_features_meta_data` will all be ``False`` instead of ``True`` by default to enable lazy loading. To disable this message until version 0.15 explicitly set `download_data`, `download_qualities`, and `download_features_meta_data` to a bool while calling `get_dataset`.\n",
      "  warnings.warn(\n",
      "c:\\Users\\AWeg\\AppData\\Local\\Programs\\Python\\Python39\\lib\\site-packages\\openml\\datasets\\functions.py:438: FutureWarning: Starting from Version 0.15 `download_data`, `download_qualities`, and `download_features_meta_data` will all be ``False`` instead of ``True`` by default to enable lazy loading. To disable this message until version 0.15 explicitly set `download_data`, `download_qualities`, and `download_features_meta_data` to a bool while calling `get_dataset`.\n",
      "  warnings.warn(\n",
      "c:\\Users\\AWeg\\AppData\\Local\\Programs\\Python\\Python39\\lib\\site-packages\\openml\\datasets\\functions.py:438: FutureWarning: Starting from Version 0.15 `download_data`, `download_qualities`, and `download_features_meta_data` will all be ``False`` instead of ``True`` by default to enable lazy loading. To disable this message until version 0.15 explicitly set `download_data`, `download_qualities`, and `download_features_meta_data` to a bool while calling `get_dataset`.\n",
      "  warnings.warn(\n",
      "c:\\Users\\AWeg\\AppData\\Local\\Programs\\Python\\Python39\\lib\\site-packages\\openml\\datasets\\functions.py:438: FutureWarning: Starting from Version 0.15 `download_data`, `download_qualities`, and `download_features_meta_data` will all be ``False`` instead of ``True`` by default to enable lazy loading. To disable this message until version 0.15 explicitly set `download_data`, `download_qualities`, and `download_features_meta_data` to a bool while calling `get_dataset`.\n",
      "  warnings.warn(\n"
     ]
    }
   ],
   "source": [
    "dataset = {}\n",
    "data = {}\n",
    "labels = {}\n",
    "id = [44,1067,1464,40701]\n",
    "for index in id:\n",
    "    dataset[index] = openml.datasets.get_dataset(index)\n",
    "    data[index], y, _, _ = dataset[index].get_data(dataset_format=\"dataframe\")\n",
    "    data[index] = data[index].replace('nan', np.nan) # not always needed\n",
    "    labels[index] = list(data[index].columns.values)"
   ]
  },
  {
   "cell_type": "markdown",
   "metadata": {},
   "source": [
    "### Preprocessing"
   ]
  },
  {
   "cell_type": "code",
   "execution_count": 21,
   "metadata": {},
   "outputs": [],
   "source": [
    "def preprocess():\n",
    "    num_pipeline = Pipeline(steps=[\n",
    "        ('scale',MinMaxScaler())\n",
    "    ])\n",
    "\n",
    "    ### operacje dla kolumn kategorycznych\n",
    "    cat_pipeline = Pipeline(steps=[\n",
    "        ('one-hot',OneHotEncoder(handle_unknown='ignore', sparse=False))\n",
    "\n",
    "    ])\n",
    "\n",
    "    bool_pipeline = Pipeline(steps=[])\n",
    "\n",
    "    col_trans = ColumnTransformer(transformers=[\n",
    "        ('num_pipeline', num_pipeline, make_column_selector( dtype_exclude= np.object_)),\n",
    "        ('cat_pipeline',cat_pipeline,make_column_selector( dtype_include= np.object_)),\n",
    "        ],\n",
    "    \n",
    "        n_jobs=-1)\n",
    "    \n",
    "    model = Pipeline([('preprocessing', col_trans)])\n",
    "    return model"
   ]
  },
  {
   "cell_type": "code",
   "execution_count": 22,
   "metadata": {},
   "outputs": [],
   "source": [
    "data_prepared = {}\n",
    "for index in id:\n",
    "    datad = data[index]\n",
    "    model =  preprocess()\n",
    "    model.get_params()\n",
    "    model.fit(datad)\n",
    "    after_process = model.transform(datad)\n",
    "    data_prepared[index] = pd.DataFrame(after_process, columns = labels[index])"
   ]
  },
  {
   "cell_type": "markdown",
   "metadata": {},
   "source": [
    "### Data split"
   ]
  },
  {
   "cell_type": "code",
   "execution_count": 23,
   "metadata": {},
   "outputs": [],
   "source": [
    "yColumnName = {44:\"class\",1067:\"defects\",1464:\"Class\",40701:\"class\"}\n",
    "X = {}\n",
    "y = {}\n",
    "X_train = {}\n",
    "X_test = {}\n",
    "y_train = {}\n",
    "y_test = {}\n",
    "for index in id:\n",
    "\n",
    "    X[index] = data_prepared[index].drop(yColumnName[index], axis=1)\n",
    "    y[index] = data_prepared[index][yColumnName[index]]\n",
    "\n",
    "    X_train[index],  X_test[index], y_train[index], y_test[index] = train_test_split(X[index], y[index])"
   ]
  },
  {
   "cell_type": "markdown",
   "metadata": {},
   "source": [
    "## Grid search for tuning hyperparams"
   ]
  },
  {
   "cell_type": "markdown",
   "metadata": {},
   "source": [
    "### RandomForestClassifier"
   ]
  },
  {
   "cell_type": "code",
   "execution_count": 24,
   "metadata": {},
   "outputs": [],
   "source": [
    "pipeline = Pipeline([('SVM', svm.SVC())])"
   ]
  },
  {
   "cell_type": "code",
   "execution_count": 25,
   "metadata": {},
   "outputs": [
    {
     "data": {
      "text/plain": [
       "{'memory': None,\n",
       " 'steps': [('SVM', SVC())],\n",
       " 'verbose': False,\n",
       " 'SVM': SVC(),\n",
       " 'SVM__C': 1.0,\n",
       " 'SVM__break_ties': False,\n",
       " 'SVM__cache_size': 200,\n",
       " 'SVM__class_weight': None,\n",
       " 'SVM__coef0': 0.0,\n",
       " 'SVM__decision_function_shape': 'ovr',\n",
       " 'SVM__degree': 3,\n",
       " 'SVM__gamma': 'scale',\n",
       " 'SVM__kernel': 'rbf',\n",
       " 'SVM__max_iter': -1,\n",
       " 'SVM__probability': False,\n",
       " 'SVM__random_state': None,\n",
       " 'SVM__shrinking': True,\n",
       " 'SVM__tol': 0.001,\n",
       " 'SVM__verbose': False}"
      ]
     },
     "execution_count": 25,
     "metadata": {},
     "output_type": "execute_result"
    }
   ],
   "source": [
    "pipeline.get_params()"
   ]
  },
  {
   "cell_type": "code",
   "execution_count": 26,
   "metadata": {},
   "outputs": [],
   "source": [
    "\n",
    "svm_c = np.linspace(10, 200, 10).astype(np.float_)\n",
    "coef0 = np.linspace(1, 50, 5).astype(np.float_)\n",
    "gamma = 1/np.linspace(1, 500, 5).astype(np.float_)\n",
    "degree =  np.linspace(1, 10, 10).astype(np.int_)\n"
   ]
  },
  {
   "cell_type": "code",
   "execution_count": 27,
   "metadata": {},
   "outputs": [],
   "source": [
    "kernel = ['linear', 'poly', 'rbf', 'sigmoid']"
   ]
  },
  {
   "cell_type": "code",
   "execution_count": 28,
   "metadata": {},
   "outputs": [],
   "source": [
    "param_distributions = [{\n",
    "                'SVM__kernel': kernel,\n",
    "                'SVM__C' : svm_c,\n",
    "                'SVM__coef0': coef0 , \n",
    "                'SVM__gamma': gamma,\n",
    "                'SVM__degree': degree\n",
    "                }]"
   ]
  },
  {
   "cell_type": "code",
   "execution_count": 29,
   "metadata": {},
   "outputs": [],
   "source": [
    "best_hyperparams = []\n",
    "score_for_best_hyperparams = {}\n",
    "std_scores = []\n",
    "all_scores = {}\n",
    "# ps = PredefinedSplit(test_fold=1)\n",
    "\n",
    "for index in id:\n",
    "    gs_model_pipeline = RandomizedSearchCV(estimator=pipeline,param_distributions=param_distributions,scoring='roc_auc',cv=2, n_iter=10, random_state=1)\n",
    "    gs_model_pipeline.fit(X[index], y[index])\n",
    "    best_hyperparams.append(gs_model_pipeline.best_params_)\n",
    "\n",
    "    #score for test data\n",
    "    \n",
    "    #score_for_best_hyperparams[index] = gs_model_pipeline.score(X_test[index], y_test[index])\n",
    "    std_scores.append(gs_model_pipeline.cv_results_['mean_test_score'])\n",
    "    all_scores[index] = gs_model_pipeline.cv_results_['mean_test_score']\n"
   ]
  },
  {
   "cell_type": "code",
   "execution_count": null,
   "metadata": {},
   "outputs": [],
   "source": [
    "import matplotlib.pyplot as plt\n",
    "\n",
    "for index in id:\n",
    "    plt.plot(all_scores[index])"
   ]
  },
  {
   "cell_type": "code",
   "execution_count": null,
   "metadata": {},
   "outputs": [
    {
     "data": {
      "text/plain": [
       "array([0.74963295])"
      ]
     },
     "execution_count": 12,
     "metadata": {},
     "output_type": "execute_result"
    }
   ],
   "source": [
    "best_hyperparams\n",
    "gs_model_pipeline.cv_results_['mean_test_score']"
   ]
  },
  {
   "cell_type": "code",
   "execution_count": null,
   "metadata": {},
   "outputs": [],
   "source": [
    "mean_std_vector   = np.mean(std_scores, axis =0)\n",
    "minimum_std = np.max(mean_std_vector)\n",
    "index_best = np.where(mean_std_vector == (minimum_std))[0][0]"
   ]
  },
  {
   "cell_type": "code",
   "execution_count": null,
   "metadata": {},
   "outputs": [],
   "source": [
    "for index in id:\n",
    "    score_for_best_hyperparams[index] = np.max(all_scores[index])"
   ]
  },
  {
   "cell_type": "code",
   "execution_count": null,
   "metadata": {},
   "outputs": [
    {
     "data": {
      "text/plain": [
       "{44: 0.8880723776707038,\n",
       " 1067: 0.7865552632619814,\n",
       " 1464: 0.6966883500887049,\n",
       " 40701: 0.7496329484645767}"
      ]
     },
     "execution_count": 15,
     "metadata": {},
     "output_type": "execute_result"
    }
   ],
   "source": [
    "score_for_best_hyperparams"
   ]
  },
  {
   "cell_type": "code",
   "execution_count": null,
   "metadata": {},
   "outputs": [],
   "source": [
    "defaults = gs_model_pipeline.cv_results_['params'][index_best]"
   ]
  },
  {
   "cell_type": "markdown",
   "metadata": {},
   "source": [
    "### Diff for defaults - best"
   ]
  },
  {
   "cell_type": "code",
   "execution_count": null,
   "metadata": {},
   "outputs": [
    {
     "data": {
      "text/plain": [
       "{44: 0.0, 1067: 0.0, 1464: 0.0, 40701: 0.0}"
      ]
     },
     "execution_count": 17,
     "metadata": {},
     "output_type": "execute_result"
    }
   ],
   "source": [
    "score_for_default_hyperparams = {}\n",
    "diff = {}\n",
    "\n",
    "for index in id:\n",
    "    diff[index] = score_for_best_hyperparams[index] - all_scores[index][index_best]\n",
    "diff"
   ]
  },
  {
   "cell_type": "markdown",
   "metadata": {},
   "source": [
    "# Bayes Optimization"
   ]
  },
  {
   "cell_type": "markdown",
   "metadata": {},
   "source": [
    "## BayesSearchCV"
   ]
  },
  {
   "cell_type": "code",
   "execution_count": null,
   "metadata": {},
   "outputs": [
    {
     "ename": "NameError",
     "evalue": "name 'grid_params' is not defined",
     "output_type": "error",
     "traceback": [
      "\u001b[1;31m---------------------------------------------------------------------------\u001b[0m",
      "\u001b[1;31mNameError\u001b[0m                                 Traceback (most recent call last)",
      "\u001b[1;32mc:\\Users\\AWeg\\Desktop\\AutoMLHM1\\HM1svm_short.ipynb Cell 29\u001b[0m line \u001b[0;36m4\n\u001b[0;32m      <a href='vscode-notebook-cell:/c%3A/Users/AWeg/Desktop/AutoMLHM1/HM1svm_short.ipynb#X40sZmlsZQ%3D%3D?line=0'>1</a>\u001b[0m \u001b[39m# number of iters to change\u001b[39;00m\n\u001b[0;32m      <a href='vscode-notebook-cell:/c%3A/Users/AWeg/Desktop/AutoMLHM1/HM1svm_short.ipynb#X40sZmlsZQ%3D%3D?line=1'>2</a>\u001b[0m iters \u001b[39m=\u001b[39m \u001b[39m50\u001b[39m\n\u001b[1;32m----> <a href='vscode-notebook-cell:/c%3A/Users/AWeg/Desktop/AutoMLHM1/HM1svm_short.ipynb#X40sZmlsZQ%3D%3D?line=3'>4</a>\u001b[0m bayes_params \u001b[39m=\u001b[39m grid_params\n\u001b[0;32m      <a href='vscode-notebook-cell:/c%3A/Users/AWeg/Desktop/AutoMLHM1/HM1svm_short.ipynb#X40sZmlsZQ%3D%3D?line=4'>5</a>\u001b[0m best_hyperparams_bayes \u001b[39m=\u001b[39m []\n\u001b[0;32m      <a href='vscode-notebook-cell:/c%3A/Users/AWeg/Desktop/AutoMLHM1/HM1svm_short.ipynb#X40sZmlsZQ%3D%3D?line=5'>6</a>\u001b[0m all_scores_bayes \u001b[39m=\u001b[39m {}\n",
      "\u001b[1;31mNameError\u001b[0m: name 'grid_params' is not defined"
     ]
    }
   ],
   "source": [
    "# number of iters to change\n",
    "iters = 50\n",
    "\n",
    "bayes_params = param_distributions\n",
    "best_hyperparams_bayes = []\n",
    "all_scores_bayes = {}\n",
    "\n",
    "for index in id:\n",
    "    opt = BayesSearchCV(estimator=pipeline,search_spaces=bayes_params,scoring='roc_auc',cv=2, n_iter=iters, random_state=0)\n",
    "    opt.fit(X[index], y[index])\n",
    "    best_hyperparams_bayes.append(opt.best_params_)\n",
    "\n",
    "    all_scores_bayes[index] = opt.cv_results_['mean_test_score']"
   ]
  },
  {
   "cell_type": "code",
   "execution_count": null,
   "metadata": {},
   "outputs": [
    {
     "data": {
      "text/plain": [
       "[<matplotlib.lines.Line2D at 0x1ba6e145940>]"
      ]
     },
     "execution_count": 42,
     "metadata": {},
     "output_type": "execute_result"
    },
    {
     "data": {
      "image/png": "[encoded data removed]",
      "text/plain": [
       "<Figure size 640x480 with 1 Axes>"
      ]
     },
     "metadata": {},
     "output_type": "display_data"
    }
   ],
   "source": [
    "import matplotlib.pyplot as plt\n",
    "\n",
    "\n",
    "for index in id:\n",
    "    plt.plot(all_scores_bayes[index])"
   ]
  },
  {
   "cell_type": "markdown",
   "metadata": {},
   "source": [
    "# Defaults - BO"
   ]
  },
  {
   "cell_type": "code",
   "execution_count": null,
   "metadata": {},
   "outputs": [],
   "source": [
    "minimum_std"
   ]
  }
 ],
 "metadata": {
  "kernelspec": {
   "display_name": "Python 3",
   "language": "python",
   "name": "python3"
  },
  "language_info": {
   "codemirror_mode": {
    "name": "ipython",
    "version": 3
   },
   "file_extension": ".py",
   "mimetype": "text/x-python",
   "name": "python",
   "nbconvert_exporter": "python",
   "pygments_lexer": "ipython3",
   "version": "3.9.4"
  }
 },
 "nbformat": 4,
 "nbformat_minor": 2
}
